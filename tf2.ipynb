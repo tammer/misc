{
 "cells": [
  {
   "cell_type": "code",
   "execution_count": 28,
   "id": "e99dd016-8743-4e76-82a0-2829712c8a47",
   "metadata": {},
   "outputs": [
    {
     "data": {
      "text/plain": [
       "<tf.Tensor: shape=(1,), dtype=float32, numpy=array([0.00411351], dtype=float32)>"
      ]
     },
     "execution_count": 28,
     "metadata": {},
     "output_type": "execute_result"
    }
   ],
   "source": [
    "# multi layor for xor.  uses two layers.\n",
    "\n",
    "import numpy as np\n",
    "import tensorflow as tf\n",
    "from tensorflow import keras\n",
    "from tensorflow.keras import layers\n",
    "\n",
    "layer1 = layers.Dense(2, activation='sigmoid')\n",
    "layer2 = layers.Dense(1, activation='sigmoid')\n",
    "\n",
    "model = keras.Sequential()\n",
    "model.add(layer1)\n",
    "model.add(layer2)\n",
    "\n",
    "x=np.array([[0,0],[0,1],[1,0],[1,1]])\n",
    "model(x) # forces some initial weights and more importantly the dimensions of the w vector\n",
    "# print(model.get_weights())\n",
    "# model.layers[0].set_weights([np.array([[5.5],[5.5]]),np.array([-8.3])])\n",
    "# model.layers[0].set_weights([np.array([[0],[0]]),np.array([0])]) # starting point\n",
    "\n",
    "model.compile(optimizer=keras.optimizers.SGD(learning_rate=1e0),loss=tf.keras.losses.MeanSquaredError())\n",
    "y=np.array([[0,1,1,0]]).T\n",
    "\n",
    "model.fit(x,y,batch_size=1,epochs=1000,verbose=0)\n",
    "sum((model(x) - y)**2)"
   ]
  },
  {
   "cell_type": "code",
   "execution_count": null,
   "id": "8f52d192-7079-4d0c-856f-4d70813b1a39",
   "metadata": {},
   "outputs": [],
   "source": []
  }
 ],
 "metadata": {
  "kernelspec": {
   "display_name": "Python 3",
   "language": "python",
   "name": "python3"
  },
  "language_info": {
   "codemirror_mode": {
    "name": "ipython",
    "version": 3
   },
   "file_extension": ".py",
   "mimetype": "text/x-python",
   "name": "python",
   "nbconvert_exporter": "python",
   "pygments_lexer": "ipython3",
   "version": "3.9.4"
  }
 },
 "nbformat": 4,
 "nbformat_minor": 5
}

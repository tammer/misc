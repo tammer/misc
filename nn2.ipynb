{
 "cells": [
  {
   "cell_type": "code",
   "execution_count": null,
   "id": "93a049a6-92e7-41c4-95ee-049786ba0002",
   "metadata": {},
   "outputs": [],
   "source": [
    "import numpy as np\n",
    "\n",
    "def phi(x):\n",
    "    return 1 / (1+np.exp(-x))\n",
    "\n",
    "def phi1(phi): # returns dphi/dx given phi(x)\n",
    "    return phi*(1-phi)\n",
    "\n",
    "class Node:\n",
    "    def __init__(self,dimensions):\n",
    "        self.w = np.zeros((1,dimensions))\n",
    "    def evaluate(self, x):\n",
    "        return phi( x @ self.w.T)\n",
    "    def refine(self,x,yhat):\n",
    "        y = self.evaluate(x)\n",
    "        e = y - yhat\n",
    "        correction = (x.T @ (phi1(y)*e)).T\n",
    "        self.w = self.w - correction\n",
    "    def calibrate(self, x, yhat, iterations):\n",
    "        for counter in range(0,iterations):\n",
    "            self.refine(x,yhat)\n",
    "        \n",
    "n = Node(3)\n",
    "x = np.array([[1,0,0],[1,0,1],[1,1,0],[1,1,1]])\n",
    "yhat = np.array([[0,0,0,1]]).T\n",
    "n.calibrate(x,yhat,1000)\n",
    "n.evaluate(x) - yhat"
   ]
  },
  {
   "cell_type": "code",
   "execution_count": null,
   "id": "6bb316e0-5a95-4adc-a7d6-ec4eb5a02401",
   "metadata": {},
   "outputs": [],
   "source": [
    "class Layer:\n",
    "    def __init__(self,dimensions,classes):\n",
    "        self.nodes = []\n",
    "        for i in range(0,classes):\n",
    "            self.nodes.append(Node(dimensions))\n",
    "    \n",
    "    def evaluate(self,x):\n",
    "        y = np.empty((x.shape[0],0))\n",
    "        for node in self.nodes:\n",
    "            y = np.concatenate((y,node.evaluate(x)),axis=1)\n",
    "        return y\n",
    "    \n",
    "    def calibrate(self,x,yhat,iterations):\n",
    "        j=0\n",
    "        for node in self.nodes:\n",
    "            node.calibrate(x,yhat[0:,j:j+1],iterations)\n",
    "            j=j+1\n",
    "            \n",
    "nn = Layer(3,3)\n",
    "x = np.array([[1,0,0],[1,0,1],[1,1,0],[1,1,1]])\n",
    "yhat = np.array([[1,0,0,0],[0,1,0,0],[0,0,1,1]]).T\n",
    "nn.calibrate(x,yhat,100)\n",
    "np.round(nn.evaluate(x)).astype(int) - yhat"
   ]
  },
  {
   "cell_type": "code",
   "execution_count": null,
   "id": "4c7d8927-e820-4dcd-ab84-1b0176db8dca",
   "metadata": {},
   "outputs": [],
   "source": []
  }
 ],
 "metadata": {
  "kernelspec": {
   "display_name": "Python 3",
   "language": "python",
   "name": "python3"
  },
  "language_info": {
   "codemirror_mode": {
    "name": "ipython",
    "version": 3
   },
   "file_extension": ".py",
   "mimetype": "text/x-python",
   "name": "python",
   "nbconvert_exporter": "python",
   "pygments_lexer": "ipython3",
   "version": "3.9.4"
  }
 },
 "nbformat": 4,
 "nbformat_minor": 5
}

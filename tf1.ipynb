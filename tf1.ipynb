{
 "cells": [
  {
   "cell_type": "code",
   "execution_count": 215,
   "id": "e99dd016-8743-4e76-82a0-2829712c8a47",
   "metadata": {},
   "outputs": [
    {
     "data": {
      "text/plain": [
       "<tf.Tensor: shape=(1,), dtype=float32, numpy=array([1.1588649], dtype=float32)>"
      ]
     },
     "execution_count": 215,
     "metadata": {},
     "output_type": "execute_result"
    }
   ],
   "source": [
    "import numpy as np\n",
    "import tensorflow as tf\n",
    "from tensorflow import keras\n",
    "from tensorflow.keras import layers\n",
    "\n",
    "layer = layers.Dense(1, activation='sigmoid')\n",
    "\n",
    "model = keras.Sequential()\n",
    "model.add(layer)\n",
    "\n",
    "x=np.array([[0,0],[0,1],[1,0],[1,1]])\n",
    "model(x)\n",
    "# model.layers[0].set_weights([np.array([[5.5],[5.5]]),np.array([-8.3])])\n",
    "\n",
    "model.compile(optimizer=keras.optimizers.RMSprop(),loss=tf.keras.losses.MeanSquaredError(),metrics=['accuracy'])\n",
    "y=np.array([[0,0,0,1]]).T\n",
    "\n",
    "model.fit(x,y,batch_size=4,epochs=10,verbose=0)\n",
    "sum((model(x) - y)**2)"
   ]
  },
  {
   "cell_type": "code",
   "execution_count": null,
   "id": "d50fbd46-75a7-4cd8-af09-536735fd1529",
   "metadata": {},
   "outputs": [],
   "source": []
  }
 ],
 "metadata": {
  "kernelspec": {
   "display_name": "Python 3",
   "language": "python",
   "name": "python3"
  },
  "language_info": {
   "codemirror_mode": {
    "name": "ipython",
    "version": 3
   },
   "file_extension": ".py",
   "mimetype": "text/x-python",
   "name": "python",
   "nbconvert_exporter": "python",
   "pygments_lexer": "ipython3",
   "version": "3.9.4"
  }
 },
 "nbformat": 4,
 "nbformat_minor": 5
}
